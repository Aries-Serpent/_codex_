{
 "cells": [
  {
   "cell_type": "markdown",
   "id": "7fb27b941602401d91542211134fc71a",
   "metadata": {},
   "source": [
    "# Demo: Inference (CPU)"
   ]
  },
  {
   "cell_type": "code",
   "execution_count": null,
   "id": "acae54e37e7d407bbb7b55eff062a284",
   "metadata": {},
   "outputs": [],
   "source": [
    "import json\n",
    "import urllib.request\n",
    "\n",
    "url = \"http://localhost:8000/infer\"\n",
    "data = json.dumps({\"prompt\": \"hello\"}).encode(\"utf-8\")\n",
    "req = urllib.request.Request(\n",
    "    url, data=data, headers={\"Content-Type\": \"application/json\"}\n",
    ")\n",
    "try:\n",
    "    with urllib.request.urlopen(req, timeout=5) as r:\n",
    "        print(r.read().decode(\"utf-8\"))\n",
    "except Exception as e:\n",
    "    print(\"Warning: API not available; run API first. Error:\", e)"
   ]
  }
 ],
 "metadata": {
  "kernelspec": {
   "display_name": "Python 3",
   "language": "python",
   "name": "python3"
  }
 },
 "nbformat": 4,
 "nbformat_minor": 5
}
