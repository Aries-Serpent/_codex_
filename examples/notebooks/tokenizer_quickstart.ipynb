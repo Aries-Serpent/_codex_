{
 "cells": [
  {
   "cell_type": "markdown",
   "metadata": {},
   "source": [
    "# Tokenizer Registry Quickstart\n",
    "Use the registry facade to inspect and load tokenizers without relying on external services."
   ]
  },
  {
   "cell_type": "code",
   "execution_count": null,
   "metadata": {},
   "outputs": [],
   "source": [
    "from codex_ml.registry import get_tokenizer, list_tokenizers, register_tokenizer\n",
    "from examples.plugins.toy_tokenizer import build as toy_build\n",
    "\n",
    "print('Built-in tokenizers:', list_tokenizers())\n",
    "register_tokenizer('toy', toy_build, override=True)\n",
    "tokenizer = get_tokenizer('toy', vocab={})\n",
    "token_ids = tokenizer.encode('hello codex')\n",
    "token_ids"
   ]
  }
 ],
 "metadata": {
  "kernelspec": {
   "display_name": "Python 3",
   "language": "python",
   "name": "python3"
  },
  "language_info": {
   "name": "python",
   "version": "3.12"
  }
 },
 "nbformat": 4,
 "nbformat_minor": 5
}
