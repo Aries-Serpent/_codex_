{
 "cells": [
  {
   "cell_type": "markdown",
   "id": "7fb27b941602401d91542211134fc71a",
   "metadata": {},
   "source": [
    "# Chat Fine-tuning Walkthrough\n",
    "This notebook registers a toy trainer and performs a dry-run fine-tune to demonstrate registry overrides."
   ]
  },
  {
   "cell_type": "code",
   "execution_count": null,
   "id": "acae54e37e7d407bbb7b55eff062a284",
   "metadata": {},
   "outputs": [],
   "source": [
    "from codex_ml.registry import register_trainer\n",
    "from codex_ml.training import run_functional_training\n",
    "\n",
    "\n",
    "def notebook_trainer(model, tokenizer, train_ds, val_ds, cfg):\n",
    "    return {'tokens': len(train_ds['data']['input_ids'])}\n",
    "\n",
    "register_trainer('nb-toy', notebook_trainer, override=True)\n",
    "config = {\n",
    "    'model': 'MiniLM',\n",
    "    'training': {\n",
    "        'texts': ['<s>User: ping</s><s>Assistant: pong</s>'],\n",
    "        'trainer': 'nb-toy',\n",
    "        'checkpoint_dir': 'runs/notebook-chat',\n",
    "    },\n",
    "    'tracking': {'output_dir': 'runs/notebook-chat'},\n",
    "}\n",
    "run_functional_training(config)"
   ]
  }
 ],
 "metadata": {
  "kernelspec": {
   "display_name": "Python 3",
   "language": "python",
   "name": "python3"
  },
  "language_info": {
   "name": "python",
   "version": "3.12"
  }
 },
 "nbformat": 4,
 "nbformat_minor": 5
}
