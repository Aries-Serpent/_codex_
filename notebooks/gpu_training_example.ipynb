{
 "cells": [
  {"cell_type":"markdown","metadata":{},"source":["# GPU Training Example (Stub)
","TODO: Fill with end-to-end training demo."]},
  {"cell_type":"code","metadata":{},"execution_count":null,"outputs":[],"source":["!bash scripts/gpu/check_gpu.sh"]}
 ],
 "metadata": {"kernelspec":{"display_name":"Python 3","language":"python","name":"python3"}},
 "nbformat": 4, "nbformat_minor": 5
}
