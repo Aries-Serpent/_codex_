{
 "cells": [
  {
   "cell_type": "markdown",
   "id": "0",
   "metadata": {},
   "source": [
    "# Codex ML Quickstart\n",
    "\n",
    "This notebook demonstrates a basic training, evaluation, and resume workflow using the Codex ML CLI and Python API. All operations run in offline mode with dummy data and models."
   ]
  },
  {
   "cell_type": "code",
   "execution_count": null,
   "id": "1",
   "metadata": {},
   "outputs": [],
   "source": [
    "!codex-ml-cli train --model-name dummy --epochs 1"
   ]
  },
  {
   "cell_type": "markdown",
   "id": "2",
   "metadata": {},
   "source": [
    "The above command trains a dummy model for 1 epoch and saves a checkpoint under `runs/unified/epoch-1`. Next, resume training from that checkpoint for an additional epoch:"
   ]
  },
  {
   "cell_type": "code",
   "execution_count": null,
   "id": "3",
   "metadata": {},
   "outputs": [],
   "source": [
    "!codex-ml-cli resume --checkpoint runs/unified/epoch-1 --epochs 2"
   ]
  },
  {
   "cell_type": "markdown",
   "id": "4",
   "metadata": {},
   "source": [
    "Now, run a dry-run evaluation (parsing configs without actual data) to ensure the evaluation pipeline is reachable:"
   ]
  },
  {
   "cell_type": "code",
   "execution_count": null,
   "id": "5",
   "metadata": {},
   "outputs": [],
   "source": [
    "!codex-ml-cli evaluate --dry-run"
   ]
  },
  {
   "cell_type": "markdown",
   "id": "6",
   "metadata": {},
   "source": [
    "Alternatively, you can perform the same steps using the Python API:"
   ]
  },
  {
   "cell_type": "code",
   "execution_count": null,
   "id": "7",
   "metadata": {},
   "outputs": [],
   "source": [
    "from codex_ml.training.unified_training import UnifiedTrainingConfig, run_unified_training\n",
    "\n",
    "# Train via API\n",
    "cfg = UnifiedTrainingConfig(model_name=\"dummy\", epochs=1)\n",
    "result = run_unified_training(cfg)\n",
    "print(result)\n",
    "\n",
    "# Resume via API\n",
    "cfg_resume = UnifiedTrainingConfig(model_name=\"dummy\", epochs=2, resume_from=\"runs/unified/epoch-1\")\n",
    "result2 = run_unified_training(cfg_resume)\n",
    "print(result2)"
   ]
  },
  {
   "cell_type": "markdown",
   "id": "8",
   "metadata": {},
   "source": [
    "All metrics and checkpoints are stored locally (in `runs/` and `artifacts/`) for offline analysis. You can visualize metrics with tools like TensorBoard (if enabled) or inspect the `epoch_history` in the returned results above."
   ]
  }
 ],
 "metadata": {
  "kernelspec": {
   "display_name": "Python 3",
   "name": "python3"
  },
  "language_info": {
   "name": "python",
   "pygments_lexer": "ipython3"
  }
 },
 "nbformat": 4,
 "nbformat_minor": 5
}
